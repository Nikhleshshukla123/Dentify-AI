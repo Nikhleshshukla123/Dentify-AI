{
  "cells": [
    {
      "cell_type": "code",
      "execution_count": 2,
      "metadata": {
        "colab": {
          "base_uri": "https://localhost:8080/"
        },
        "id": "nFy_jwwniAfb",
        "outputId": "2f8d932c-5870-4595-bfcb-5259792b1744"
      },
      "outputs": [
        {
          "name": "stdout",
          "output_type": "stream",
          "text": [
            "Requirement already satisfied: keras-tuner in d:\\desktop\\projects\\minor project 1\\dentify-ai\\env\\lib\\site-packages (1.4.7)\n",
            "Requirement already satisfied: keras in d:\\desktop\\projects\\minor project 1\\dentify-ai\\env\\lib\\site-packages (from keras-tuner) (3.6.0)\n",
            "Requirement already satisfied: packaging in d:\\desktop\\projects\\minor project 1\\dentify-ai\\env\\lib\\site-packages (from keras-tuner) (24.1)\n",
            "Requirement already satisfied: requests in d:\\desktop\\projects\\minor project 1\\dentify-ai\\env\\lib\\site-packages (from keras-tuner) (2.32.3)\n",
            "Requirement already satisfied: kt-legacy in d:\\desktop\\projects\\minor project 1\\dentify-ai\\env\\lib\\site-packages (from keras-tuner) (1.0.5)\n",
            "Requirement already satisfied: absl-py in d:\\desktop\\projects\\minor project 1\\dentify-ai\\env\\lib\\site-packages (from keras->keras-tuner) (2.1.0)\n",
            "Requirement already satisfied: numpy in d:\\desktop\\projects\\minor project 1\\dentify-ai\\env\\lib\\site-packages (from keras->keras-tuner) (1.26.4)\n",
            "Requirement already satisfied: rich in d:\\desktop\\projects\\minor project 1\\dentify-ai\\env\\lib\\site-packages (from keras->keras-tuner) (13.9.2)\n",
            "Requirement already satisfied: namex in d:\\desktop\\projects\\minor project 1\\dentify-ai\\env\\lib\\site-packages (from keras->keras-tuner) (0.0.8)\n",
            "Requirement already satisfied: h5py in d:\\desktop\\projects\\minor project 1\\dentify-ai\\env\\lib\\site-packages (from keras->keras-tuner) (3.12.1)\n",
            "Requirement already satisfied: optree in d:\\desktop\\projects\\minor project 1\\dentify-ai\\env\\lib\\site-packages (from keras->keras-tuner) (0.13.0)\n",
            "Requirement already satisfied: ml-dtypes in d:\\desktop\\projects\\minor project 1\\dentify-ai\\env\\lib\\site-packages (from keras->keras-tuner) (0.4.1)\n",
            "Requirement already satisfied: charset-normalizer<4,>=2 in d:\\desktop\\projects\\minor project 1\\dentify-ai\\env\\lib\\site-packages (from requests->keras-tuner) (3.4.0)\n",
            "Requirement already satisfied: idna<4,>=2.5 in d:\\desktop\\projects\\minor project 1\\dentify-ai\\env\\lib\\site-packages (from requests->keras-tuner) (3.10)\n",
            "Requirement already satisfied: urllib3<3,>=1.21.1 in d:\\desktop\\projects\\minor project 1\\dentify-ai\\env\\lib\\site-packages (from requests->keras-tuner) (2.2.3)\n",
            "Requirement already satisfied: certifi>=2017.4.17 in d:\\desktop\\projects\\minor project 1\\dentify-ai\\env\\lib\\site-packages (from requests->keras-tuner) (2024.8.30)\n",
            "Requirement already satisfied: typing-extensions>=4.5.0 in d:\\desktop\\projects\\minor project 1\\dentify-ai\\env\\lib\\site-packages (from optree->keras->keras-tuner) (4.12.2)\n",
            "Requirement already satisfied: markdown-it-py>=2.2.0 in d:\\desktop\\projects\\minor project 1\\dentify-ai\\env\\lib\\site-packages (from rich->keras->keras-tuner) (3.0.0)\n",
            "Requirement already satisfied: pygments<3.0.0,>=2.13.0 in d:\\desktop\\projects\\minor project 1\\dentify-ai\\env\\lib\\site-packages (from rich->keras->keras-tuner) (2.18.0)\n",
            "Requirement already satisfied: mdurl~=0.1 in d:\\desktop\\projects\\minor project 1\\dentify-ai\\env\\lib\\site-packages (from markdown-it-py>=2.2.0->rich->keras->keras-tuner) (0.1.2)\n",
            "Requirement already satisfied: zipp in d:\\desktop\\projects\\minor project 1\\dentify-ai\\env\\lib\\site-packages (3.20.2)\n",
            "Requirement already satisfied: tensorflow_hub in d:\\desktop\\projects\\minor project 1\\dentify-ai\\env\\lib\\site-packages (0.16.1)\n",
            "Requirement already satisfied: numpy>=1.12.0 in d:\\desktop\\projects\\minor project 1\\dentify-ai\\env\\lib\\site-packages (from tensorflow_hub) (1.26.4)\n",
            "Requirement already satisfied: protobuf>=3.19.6 in d:\\desktop\\projects\\minor project 1\\dentify-ai\\env\\lib\\site-packages (from tensorflow_hub) (4.25.5)\n",
            "Requirement already satisfied: tf-keras>=2.14.1 in d:\\desktop\\projects\\minor project 1\\dentify-ai\\env\\lib\\site-packages (from tensorflow_hub) (2.17.0)\n",
            "Requirement already satisfied: tensorflow<2.18,>=2.17 in d:\\desktop\\projects\\minor project 1\\dentify-ai\\env\\lib\\site-packages (from tf-keras>=2.14.1->tensorflow_hub) (2.17.0)\n",
            "Requirement already satisfied: tensorflow-intel==2.17.0 in d:\\desktop\\projects\\minor project 1\\dentify-ai\\env\\lib\\site-packages (from tensorflow<2.18,>=2.17->tf-keras>=2.14.1->tensorflow_hub) (2.17.0)\n",
            "Requirement already satisfied: absl-py>=1.0.0 in d:\\desktop\\projects\\minor project 1\\dentify-ai\\env\\lib\\site-packages (from tensorflow-intel==2.17.0->tensorflow<2.18,>=2.17->tf-keras>=2.14.1->tensorflow_hub) (2.1.0)\n",
            "Requirement already satisfied: astunparse>=1.6.0 in d:\\desktop\\projects\\minor project 1\\dentify-ai\\env\\lib\\site-packages (from tensorflow-intel==2.17.0->tensorflow<2.18,>=2.17->tf-keras>=2.14.1->tensorflow_hub) (1.6.3)\n",
            "Requirement already satisfied: flatbuffers>=24.3.25 in d:\\desktop\\projects\\minor project 1\\dentify-ai\\env\\lib\\site-packages (from tensorflow-intel==2.17.0->tensorflow<2.18,>=2.17->tf-keras>=2.14.1->tensorflow_hub) (24.3.25)\n",
            "Requirement already satisfied: gast!=0.5.0,!=0.5.1,!=0.5.2,>=0.2.1 in d:\\desktop\\projects\\minor project 1\\dentify-ai\\env\\lib\\site-packages (from tensorflow-intel==2.17.0->tensorflow<2.18,>=2.17->tf-keras>=2.14.1->tensorflow_hub) (0.6.0)\n",
            "Requirement already satisfied: google-pasta>=0.1.1 in d:\\desktop\\projects\\minor project 1\\dentify-ai\\env\\lib\\site-packages (from tensorflow-intel==2.17.0->tensorflow<2.18,>=2.17->tf-keras>=2.14.1->tensorflow_hub) (0.2.0)\n",
            "Requirement already satisfied: h5py>=3.10.0 in d:\\desktop\\projects\\minor project 1\\dentify-ai\\env\\lib\\site-packages (from tensorflow-intel==2.17.0->tensorflow<2.18,>=2.17->tf-keras>=2.14.1->tensorflow_hub) (3.12.1)\n",
            "Requirement already satisfied: libclang>=13.0.0 in d:\\desktop\\projects\\minor project 1\\dentify-ai\\env\\lib\\site-packages (from tensorflow-intel==2.17.0->tensorflow<2.18,>=2.17->tf-keras>=2.14.1->tensorflow_hub) (18.1.1)\n",
            "Requirement already satisfied: ml-dtypes<0.5.0,>=0.3.1 in d:\\desktop\\projects\\minor project 1\\dentify-ai\\env\\lib\\site-packages (from tensorflow-intel==2.17.0->tensorflow<2.18,>=2.17->tf-keras>=2.14.1->tensorflow_hub) (0.4.1)\n",
            "Requirement already satisfied: opt-einsum>=2.3.2 in d:\\desktop\\projects\\minor project 1\\dentify-ai\\env\\lib\\site-packages (from tensorflow-intel==2.17.0->tensorflow<2.18,>=2.17->tf-keras>=2.14.1->tensorflow_hub) (3.4.0)\n",
            "Requirement already satisfied: packaging in d:\\desktop\\projects\\minor project 1\\dentify-ai\\env\\lib\\site-packages (from tensorflow-intel==2.17.0->tensorflow<2.18,>=2.17->tf-keras>=2.14.1->tensorflow_hub) (24.1)\n",
            "Requirement already satisfied: requests<3,>=2.21.0 in d:\\desktop\\projects\\minor project 1\\dentify-ai\\env\\lib\\site-packages (from tensorflow-intel==2.17.0->tensorflow<2.18,>=2.17->tf-keras>=2.14.1->tensorflow_hub) (2.32.3)\n",
            "Requirement already satisfied: setuptools in d:\\desktop\\projects\\minor project 1\\dentify-ai\\env\\lib\\site-packages (from tensorflow-intel==2.17.0->tensorflow<2.18,>=2.17->tf-keras>=2.14.1->tensorflow_hub) (65.5.0)\n",
            "Requirement already satisfied: six>=1.12.0 in d:\\desktop\\projects\\minor project 1\\dentify-ai\\env\\lib\\site-packages (from tensorflow-intel==2.17.0->tensorflow<2.18,>=2.17->tf-keras>=2.14.1->tensorflow_hub) (1.16.0)\n",
            "Requirement already satisfied: termcolor>=1.1.0 in d:\\desktop\\projects\\minor project 1\\dentify-ai\\env\\lib\\site-packages (from tensorflow-intel==2.17.0->tensorflow<2.18,>=2.17->tf-keras>=2.14.1->tensorflow_hub) (2.5.0)\n",
            "Requirement already satisfied: typing-extensions>=3.6.6 in d:\\desktop\\projects\\minor project 1\\dentify-ai\\env\\lib\\site-packages (from tensorflow-intel==2.17.0->tensorflow<2.18,>=2.17->tf-keras>=2.14.1->tensorflow_hub) (4.12.2)\n",
            "Requirement already satisfied: wrapt>=1.11.0 in d:\\desktop\\projects\\minor project 1\\dentify-ai\\env\\lib\\site-packages (from tensorflow-intel==2.17.0->tensorflow<2.18,>=2.17->tf-keras>=2.14.1->tensorflow_hub) (1.16.0)\n",
            "Requirement already satisfied: grpcio<2.0,>=1.24.3 in d:\\desktop\\projects\\minor project 1\\dentify-ai\\env\\lib\\site-packages (from tensorflow-intel==2.17.0->tensorflow<2.18,>=2.17->tf-keras>=2.14.1->tensorflow_hub) (1.66.2)\n",
            "Requirement already satisfied: tensorboard<2.18,>=2.17 in d:\\desktop\\projects\\minor project 1\\dentify-ai\\env\\lib\\site-packages (from tensorflow-intel==2.17.0->tensorflow<2.18,>=2.17->tf-keras>=2.14.1->tensorflow_hub) (2.17.1)\n",
            "Requirement already satisfied: keras>=3.2.0 in d:\\desktop\\projects\\minor project 1\\dentify-ai\\env\\lib\\site-packages (from tensorflow-intel==2.17.0->tensorflow<2.18,>=2.17->tf-keras>=2.14.1->tensorflow_hub) (3.6.0)\n",
            "Requirement already satisfied: tensorflow-io-gcs-filesystem>=0.23.1 in d:\\desktop\\projects\\minor project 1\\dentify-ai\\env\\lib\\site-packages (from tensorflow-intel==2.17.0->tensorflow<2.18,>=2.17->tf-keras>=2.14.1->tensorflow_hub) (0.31.0)\n",
            "Requirement already satisfied: wheel<1.0,>=0.23.0 in d:\\desktop\\projects\\minor project 1\\dentify-ai\\env\\lib\\site-packages (from astunparse>=1.6.0->tensorflow-intel==2.17.0->tensorflow<2.18,>=2.17->tf-keras>=2.14.1->tensorflow_hub) (0.44.0)\n",
            "Requirement already satisfied: rich in d:\\desktop\\projects\\minor project 1\\dentify-ai\\env\\lib\\site-packages (from keras>=3.2.0->tensorflow-intel==2.17.0->tensorflow<2.18,>=2.17->tf-keras>=2.14.1->tensorflow_hub) (13.9.2)\n",
            "Requirement already satisfied: namex in d:\\desktop\\projects\\minor project 1\\dentify-ai\\env\\lib\\site-packages (from keras>=3.2.0->tensorflow-intel==2.17.0->tensorflow<2.18,>=2.17->tf-keras>=2.14.1->tensorflow_hub) (0.0.8)\n",
            "Requirement already satisfied: optree in d:\\desktop\\projects\\minor project 1\\dentify-ai\\env\\lib\\site-packages (from keras>=3.2.0->tensorflow-intel==2.17.0->tensorflow<2.18,>=2.17->tf-keras>=2.14.1->tensorflow_hub) (0.13.0)\n",
            "Requirement already satisfied: charset-normalizer<4,>=2 in d:\\desktop\\projects\\minor project 1\\dentify-ai\\env\\lib\\site-packages (from requests<3,>=2.21.0->tensorflow-intel==2.17.0->tensorflow<2.18,>=2.17->tf-keras>=2.14.1->tensorflow_hub) (3.4.0)\n",
            "Requirement already satisfied: idna<4,>=2.5 in d:\\desktop\\projects\\minor project 1\\dentify-ai\\env\\lib\\site-packages (from requests<3,>=2.21.0->tensorflow-intel==2.17.0->tensorflow<2.18,>=2.17->tf-keras>=2.14.1->tensorflow_hub) (3.10)\n",
            "Requirement already satisfied: urllib3<3,>=1.21.1 in d:\\desktop\\projects\\minor project 1\\dentify-ai\\env\\lib\\site-packages (from requests<3,>=2.21.0->tensorflow-intel==2.17.0->tensorflow<2.18,>=2.17->tf-keras>=2.14.1->tensorflow_hub) (2.2.3)\n",
            "Requirement already satisfied: certifi>=2017.4.17 in d:\\desktop\\projects\\minor project 1\\dentify-ai\\env\\lib\\site-packages (from requests<3,>=2.21.0->tensorflow-intel==2.17.0->tensorflow<2.18,>=2.17->tf-keras>=2.14.1->tensorflow_hub) (2024.8.30)\n",
            "Requirement already satisfied: markdown>=2.6.8 in d:\\desktop\\projects\\minor project 1\\dentify-ai\\env\\lib\\site-packages (from tensorboard<2.18,>=2.17->tensorflow-intel==2.17.0->tensorflow<2.18,>=2.17->tf-keras>=2.14.1->tensorflow_hub) (3.7)\n",
            "Requirement already satisfied: tensorboard-data-server<0.8.0,>=0.7.0 in d:\\desktop\\projects\\minor project 1\\dentify-ai\\env\\lib\\site-packages (from tensorboard<2.18,>=2.17->tensorflow-intel==2.17.0->tensorflow<2.18,>=2.17->tf-keras>=2.14.1->tensorflow_hub) (0.7.2)\n",
            "Requirement already satisfied: werkzeug>=1.0.1 in d:\\desktop\\projects\\minor project 1\\dentify-ai\\env\\lib\\site-packages (from tensorboard<2.18,>=2.17->tensorflow-intel==2.17.0->tensorflow<2.18,>=2.17->tf-keras>=2.14.1->tensorflow_hub) (3.0.4)\n",
            "Requirement already satisfied: MarkupSafe>=2.1.1 in d:\\desktop\\projects\\minor project 1\\dentify-ai\\env\\lib\\site-packages (from werkzeug>=1.0.1->tensorboard<2.18,>=2.17->tensorflow-intel==2.17.0->tensorflow<2.18,>=2.17->tf-keras>=2.14.1->tensorflow_hub) (3.0.1)\n",
            "Requirement already satisfied: markdown-it-py>=2.2.0 in d:\\desktop\\projects\\minor project 1\\dentify-ai\\env\\lib\\site-packages (from rich->keras>=3.2.0->tensorflow-intel==2.17.0->tensorflow<2.18,>=2.17->tf-keras>=2.14.1->tensorflow_hub) (3.0.0)\n",
            "Requirement already satisfied: pygments<3.0.0,>=2.13.0 in d:\\desktop\\projects\\minor project 1\\dentify-ai\\env\\lib\\site-packages (from rich->keras>=3.2.0->tensorflow-intel==2.17.0->tensorflow<2.18,>=2.17->tf-keras>=2.14.1->tensorflow_hub) (2.18.0)\n",
            "Requirement already satisfied: mdurl~=0.1 in d:\\desktop\\projects\\minor project 1\\dentify-ai\\env\\lib\\site-packages (from markdown-it-py>=2.2.0->rich->keras>=3.2.0->tensorflow-intel==2.17.0->tensorflow<2.18,>=2.17->tf-keras>=2.14.1->tensorflow_hub) (0.1.2)\n"
          ]
        }
      ],
      "source": [
        "!pip install keras-tuner\n",
        "!pip install zipp\n",
        "!pip install tensorflow_hub"
      ]
    },
    {
      "cell_type": "code",
      "execution_count": 5,
      "metadata": {
        "id": "6LdRBmGZsbg6"
      },
      "outputs": [
        {
          "ename": "ModuleNotFoundError",
          "evalue": "No module named 'cv2'",
          "output_type": "error",
          "traceback": [
            "\u001b[1;31m---------------------------------------------------------------------------\u001b[0m",
            "\u001b[1;31mModuleNotFoundError\u001b[0m                       Traceback (most recent call last)",
            "Cell \u001b[1;32mIn[5], line 5\u001b[0m\n\u001b[0;32m      3\u001b[0m \u001b[38;5;28;01mfrom\u001b[39;00m \u001b[38;5;21;01mtensorflow\u001b[39;00m\u001b[38;5;21;01m.\u001b[39;00m\u001b[38;5;21;01mkeras\u001b[39;00m \u001b[38;5;28;01mimport\u001b[39;00m layers, Sequential\n\u001b[0;32m      4\u001b[0m \u001b[38;5;66;03m# import PIL.Image as Image  image library : help to display image \u001b[39;00m\n\u001b[1;32m----> 5\u001b[0m \u001b[38;5;28;01mimport\u001b[39;00m \u001b[38;5;21;01mcv2\u001b[39;00m \u001b[38;5;66;03m#can convert image into numpy / resize\u001b[39;00m\n\u001b[0;32m      6\u001b[0m \u001b[38;5;28;01mimport\u001b[39;00m \u001b[38;5;21;01mpathlib\u001b[39;00m \u001b[38;5;66;03m# can perform path related operations\u001b[39;00m\n\u001b[0;32m      7\u001b[0m \u001b[38;5;28;01mimport\u001b[39;00m \u001b[38;5;21;01mos\u001b[39;00m\n",
            "\u001b[1;31mModuleNotFoundError\u001b[0m: No module named 'cv2'"
          ]
        }
      ],
      "source": [
        "import tensorflow as tf\n",
        "from tensorflow import keras # wrapper for tensorflow / pytorch  \n",
        "from tensorflow.keras import layers, Sequential\n",
        "import PIL.Image as Image  #image library : help to display image \n",
        "import cv2 #can convert image into numpy / resize\n",
        "import pathlib # can perform path related operations\n",
        "import os\n",
        "import numpy as np\n",
        "import matplotlib.pyplot as plt\n",
        "import random as rd"
      ]
    },
    {
      "cell_type": "code",
      "execution_count": 4,
      "metadata": {
        "colab": {
          "base_uri": "https://localhost:8080/",
          "height": 90
        },
        "id": "G_z7iYjK3nCX",
        "outputId": "93bf7f41-38a8-49fc-9d58-508f4622d8c4"
      },
      "outputs": [
        {
          "data": {
            "text/html": [
              "\n",
              "     <input type=\"file\" id=\"files-335f8041-f8ad-42de-9386-35791e8314f7\" name=\"files[]\" multiple disabled\n",
              "        style=\"border:none\" />\n",
              "     <output id=\"result-335f8041-f8ad-42de-9386-35791e8314f7\">\n",
              "      Upload widget is only available when the cell has been executed in the\n",
              "      current browser session. Please rerun this cell to enable.\n",
              "      </output>\n",
              "      <script>// Copyright 2017 Google LLC\n",
              "//\n",
              "// Licensed under the Apache License, Version 2.0 (the \"License\");\n",
              "// you may not use this file except in compliance with the License.\n",
              "// You may obtain a copy of the License at\n",
              "//\n",
              "//      http://www.apache.org/licenses/LICENSE-2.0\n",
              "//\n",
              "// Unless required by applicable law or agreed to in writing, software\n",
              "// distributed under the License is distributed on an \"AS IS\" BASIS,\n",
              "// WITHOUT WARRANTIES OR CONDITIONS OF ANY KIND, either express or implied.\n",
              "// See the License for the specific language governing permissions and\n",
              "// limitations under the License.\n",
              "\n",
              "/**\n",
              " * @fileoverview Helpers for google.colab Python module.\n",
              " */\n",
              "(function(scope) {\n",
              "function span(text, styleAttributes = {}) {\n",
              "  const element = document.createElement('span');\n",
              "  element.textContent = text;\n",
              "  for (const key of Object.keys(styleAttributes)) {\n",
              "    element.style[key] = styleAttributes[key];\n",
              "  }\n",
              "  return element;\n",
              "}\n",
              "\n",
              "// Max number of bytes which will be uploaded at a time.\n",
              "const MAX_PAYLOAD_SIZE = 100 * 1024;\n",
              "\n",
              "function _uploadFiles(inputId, outputId) {\n",
              "  const steps = uploadFilesStep(inputId, outputId);\n",
              "  const outputElement = document.getElementById(outputId);\n",
              "  // Cache steps on the outputElement to make it available for the next call\n",
              "  // to uploadFilesContinue from Python.\n",
              "  outputElement.steps = steps;\n",
              "\n",
              "  return _uploadFilesContinue(outputId);\n",
              "}\n",
              "\n",
              "// This is roughly an async generator (not supported in the browser yet),\n",
              "// where there are multiple asynchronous steps and the Python side is going\n",
              "// to poll for completion of each step.\n",
              "// This uses a Promise to block the python side on completion of each step,\n",
              "// then passes the result of the previous step as the input to the next step.\n",
              "function _uploadFilesContinue(outputId) {\n",
              "  const outputElement = document.getElementById(outputId);\n",
              "  const steps = outputElement.steps;\n",
              "\n",
              "  const next = steps.next(outputElement.lastPromiseValue);\n",
              "  return Promise.resolve(next.value.promise).then((value) => {\n",
              "    // Cache the last promise value to make it available to the next\n",
              "    // step of the generator.\n",
              "    outputElement.lastPromiseValue = value;\n",
              "    return next.value.response;\n",
              "  });\n",
              "}\n",
              "\n",
              "/**\n",
              " * Generator function which is called between each async step of the upload\n",
              " * process.\n",
              " * @param {string} inputId Element ID of the input file picker element.\n",
              " * @param {string} outputId Element ID of the output display.\n",
              " * @return {!Iterable<!Object>} Iterable of next steps.\n",
              " */\n",
              "function* uploadFilesStep(inputId, outputId) {\n",
              "  const inputElement = document.getElementById(inputId);\n",
              "  inputElement.disabled = false;\n",
              "\n",
              "  const outputElement = document.getElementById(outputId);\n",
              "  outputElement.innerHTML = '';\n",
              "\n",
              "  const pickedPromise = new Promise((resolve) => {\n",
              "    inputElement.addEventListener('change', (e) => {\n",
              "      resolve(e.target.files);\n",
              "    });\n",
              "  });\n",
              "\n",
              "  const cancel = document.createElement('button');\n",
              "  inputElement.parentElement.appendChild(cancel);\n",
              "  cancel.textContent = 'Cancel upload';\n",
              "  const cancelPromise = new Promise((resolve) => {\n",
              "    cancel.onclick = () => {\n",
              "      resolve(null);\n",
              "    };\n",
              "  });\n",
              "\n",
              "  // Wait for the user to pick the files.\n",
              "  const files = yield {\n",
              "    promise: Promise.race([pickedPromise, cancelPromise]),\n",
              "    response: {\n",
              "      action: 'starting',\n",
              "    }\n",
              "  };\n",
              "\n",
              "  cancel.remove();\n",
              "\n",
              "  // Disable the input element since further picks are not allowed.\n",
              "  inputElement.disabled = true;\n",
              "\n",
              "  if (!files) {\n",
              "    return {\n",
              "      response: {\n",
              "        action: 'complete',\n",
              "      }\n",
              "    };\n",
              "  }\n",
              "\n",
              "  for (const file of files) {\n",
              "    const li = document.createElement('li');\n",
              "    li.append(span(file.name, {fontWeight: 'bold'}));\n",
              "    li.append(span(\n",
              "        `(${file.type || 'n/a'}) - ${file.size} bytes, ` +\n",
              "        `last modified: ${\n",
              "            file.lastModifiedDate ? file.lastModifiedDate.toLocaleDateString() :\n",
              "                                    'n/a'} - `));\n",
              "    const percent = span('0% done');\n",
              "    li.appendChild(percent);\n",
              "\n",
              "    outputElement.appendChild(li);\n",
              "\n",
              "    const fileDataPromise = new Promise((resolve) => {\n",
              "      const reader = new FileReader();\n",
              "      reader.onload = (e) => {\n",
              "        resolve(e.target.result);\n",
              "      };\n",
              "      reader.readAsArrayBuffer(file);\n",
              "    });\n",
              "    // Wait for the data to be ready.\n",
              "    let fileData = yield {\n",
              "      promise: fileDataPromise,\n",
              "      response: {\n",
              "        action: 'continue',\n",
              "      }\n",
              "    };\n",
              "\n",
              "    // Use a chunked sending to avoid message size limits. See b/62115660.\n",
              "    let position = 0;\n",
              "    do {\n",
              "      const length = Math.min(fileData.byteLength - position, MAX_PAYLOAD_SIZE);\n",
              "      const chunk = new Uint8Array(fileData, position, length);\n",
              "      position += length;\n",
              "\n",
              "      const base64 = btoa(String.fromCharCode.apply(null, chunk));\n",
              "      yield {\n",
              "        response: {\n",
              "          action: 'append',\n",
              "          file: file.name,\n",
              "          data: base64,\n",
              "        },\n",
              "      };\n",
              "\n",
              "      let percentDone = fileData.byteLength === 0 ?\n",
              "          100 :\n",
              "          Math.round((position / fileData.byteLength) * 100);\n",
              "      percent.textContent = `${percentDone}% done`;\n",
              "\n",
              "    } while (position < fileData.byteLength);\n",
              "  }\n",
              "\n",
              "  // All done.\n",
              "  yield {\n",
              "    response: {\n",
              "      action: 'complete',\n",
              "    }\n",
              "  };\n",
              "}\n",
              "\n",
              "scope.google = scope.google || {};\n",
              "scope.google.colab = scope.google.colab || {};\n",
              "scope.google.colab._files = {\n",
              "  _uploadFiles,\n",
              "  _uploadFilesContinue,\n",
              "};\n",
              "})(self);\n",
              "</script> "
            ],
            "text/plain": [
              "<IPython.core.display.HTML object>"
            ]
          },
          "metadata": {},
          "output_type": "display_data"
        },
        {
          "name": "stdout",
          "output_type": "stream",
          "text": [
            "Saving kaggle.json to kaggle.json\n",
            "File - kaggle.json : 67 Bytes\n"
          ]
        }
      ],
      "source": [
        "# setting up api token for kaggle\n",
        "from google.colab import files\n",
        "\n",
        "uploaded = files.upload()\n",
        "\n",
        "for file_name in uploaded.keys():\n",
        "  print(f\"File - {file_name} : {len(uploaded[file_name])} Bytes\")\n",
        "\n",
        "# then move kaggle.json into the folder where API expects to find it\n",
        "!mkdir -p ~/.kaggle && mv kaggle.json ~/.kaggle/ && chmod 600 ~/.kaggle/kaggle.json"
      ]
    },
    {
      "cell_type": "code",
      "execution_count": 5,
      "metadata": {
        "colab": {
          "base_uri": "https://localhost:8080/"
        },
        "id": "p2kOunRa5ax1",
        "outputId": "7076b1a7-5aff-41b2-cfa3-01a3da4d5572"
      },
      "outputs": [
        {
          "name": "stdout",
          "output_type": "stream",
          "text": [
            "Dataset URL: https://www.kaggle.com/datasets/abbasseifossadat/dental-radiography-segmentation\n",
            "License(s): CC-BY-SA-4.0\n",
            "dental-radiography-segmentation.zip: Skipping, found more recently modified local copy (use --force to force download)\n"
          ]
        }
      ],
      "source": [
        "# download dataset from kaggle\n",
        "!kaggle datasets download -d abbasseifossadat/dental-radiography-segmentation"
      ]
    },
    {
      "cell_type": "code",
      "execution_count": 6,
      "metadata": {
        "id": "9muoqVgErTym"
      },
      "outputs": [],
      "source": [
        "# extract zip\n",
        "from zipp import zipfile as zp\n",
        "file_name = \"/content/dental-radiography-segmentation.zip\"\n",
        "with zp.ZipFile(file_name, 'r') as zip:\n",
        "  zip.extractall('/content/sample_data/')"
      ]
    },
    {
      "cell_type": "code",
      "execution_count": 18,
      "metadata": {
        "colab": {
          "base_uri": "https://localhost:8080/",
          "height": 81
        },
        "id": "boA4TbpHpO98",
        "outputId": "c24fa0b8-0ecc-49dc-eb4b-579720690eee"
      },
      "outputs": [
        {
          "data": {
            "image/jpeg": "[encoded data removed]",
            "image/png": "[encoded data removed]",
            "text/plain": [
              "<PIL.PngImagePlugin.PngImageFile image mode=RGB size=64x64>"
            ]
          },
          "execution_count": 18,
          "metadata": {},
          "output_type": "execute_result"
        }
      ],
      "source": [
        "# visualizing images using PIL\n",
        "img_path = [\"/content/sample_data/Dental_Radiography/train/Fillings/0001_jpg.rf.57229a11e925669019e179341e22c97a_segment_5715.png\",\n",
        "            \"/content/sample_data/Dental_Radiography/train/Cavity/0012_jpg.rf.72a1e0ed221d11e2ce6867b15281591c_segment_2949.png\",\n",
        "            \"/content/sample_data/Dental_Radiography/train/Normal/0001_jpg.rf.30a42966fb9c51553f6949b70234218d_segment_41.png\",\n",
        "            \"/content/sample_data/Dental_Radiography/train/Impacted Tooth/0024_jpg.rf.2f510cfa6ddbba4d18f7c0241af02748_segment_4443.png\",\n",
        "            \"/content/sample_data/Dental_Radiography/test/Fillings/0095_jpg.rf.d7773e0afb13f54a3e6244079b483ab2_segment_447.png\",\n",
        "            \"/content/sample_data/Dental_Radiography/test/Cavity/0905_jpg.rf.93c5b0e9d232f394f6cedf1c8f3879f4_segment_198.png\",]\n",
        "\n",
        "idx = rd.randint(0,len(img_path))\n",
        "sample_image = Image.open(img_path[idx])\n",
        "sample_image"
      ]
    },
    {
      "cell_type": "code",
      "execution_count": 19,
      "metadata": {
        "colab": {
          "base_uri": "https://localhost:8080/",
          "height": 105
        },
        "id": "IWbjy08g7PCV",
        "outputId": "8933cbee-c493-4851-e758-e329a4cf84cb"
      },
      "outputs": [
        {
          "data": {
            "text/html": [
              "<style>\n",
              "      .ndarray_repr .ndarray_raw_data {\n",
              "        display: none;\n",
              "      }\n",
              "      .ndarray_repr.show_array .ndarray_raw_data {\n",
              "        display: block;\n",
              "      }\n",
              "      .ndarray_repr.show_array .ndarray_image_preview {\n",
              "        display: none;\n",
              "      }\n",
              "      </style>\n",
              "      <div id=\"id-1b64f367-275e-4fcb-80c3-247b30d373cc\" class=\"ndarray_repr\"><pre>ndarray (64, 64, 3) <button style=\"padding: 0 2px;\">show data</button></pre><img src=\"data:image/png;base64,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\" class=\"ndarray_image_preview\" /><pre class=\"ndarray_raw_data\">array([[[  0,   0,   0],\n",
              "        [  0,   0,   0],\n",
              "        [  0,   0,   0],\n",
              "        ...,\n",
              "        [  0,   0,   0],\n",
              "        [  0,   0,   0],\n",
              "        [  0,   0,   0]],\n",
              "\n",
              "       [[  0,   0,   0],\n",
              "        [  0,   0,   0],\n",
              "        [  0,   0,   0],\n",
              "        ...,\n",
              "        [  0,   0,   0],\n",
              "        [  0,   0,   0],\n",
              "        [  0,   0,   0]],\n",
              "\n",
              "       [[  0,   0,   0],\n",
              "        [ 55,  55,  55],\n",
              "        [139, 139, 139],\n",
              "        ...,\n",
              "        [  0,   0,   0],\n",
              "        [  0,   0,   0],\n",
              "        [  0,   0,   0]],\n",
              "\n",
              "       ...,\n",
              "\n",
              "       [[  0,   0,   0],\n",
              "        [  0,   0,   0],\n",
              "        [  0,   0,   0],\n",
              "        ...,\n",
              "        [  0,   0,   0],\n",
              "        [  0,   0,   0],\n",
              "        [  0,   0,   0]],\n",
              "\n",
              "       [[  0,   0,   0],\n",
              "        [  0,   0,   0],\n",
              "        [  0,   0,   0],\n",
              "        ...,\n",
              "        [  0,   0,   0],\n",
              "        [  0,   0,   0],\n",
              "        [  0,   0,   0]],\n",
              "\n",
              "       [[  0,   0,   0],\n",
              "        [  0,   0,   0],\n",
              "        [  0,   0,   0],\n",
              "        ...,\n",
              "        [  0,   0,   0],\n",
              "        [  0,   0,   0],\n",
              "        [  0,   0,   0]]], dtype=uint8)</pre></div><script>\n",
              "      (() => {\n",
              "      const titles = ['show data', 'hide data'];\n",
              "      let index = 0\n",
              "      document.querySelector('#id-1b64f367-275e-4fcb-80c3-247b30d373cc button').onclick = (e) => {\n",
              "        document.querySelector('#id-1b64f367-275e-4fcb-80c3-247b30d373cc').classList.toggle('show_array');\n",
              "        index = (++index) % 2;\n",
              "        document.querySelector('#id-1b64f367-275e-4fcb-80c3-247b30d373cc button').textContent = titles[index];\n",
              "        e.preventDefault();\n",
              "        e.stopPropagation();\n",
              "      }\n",
              "      })();\n",
              "    </script>"
            ],
            "text/plain": [
              "array([[[  0,   0,   0],\n",
              "        [  0,   0,   0],\n",
              "        [  0,   0,   0],\n",
              "        ...,\n",
              "        [  0,   0,   0],\n",
              "        [  0,   0,   0],\n",
              "        [  0,   0,   0]],\n",
              "\n",
              "       [[  0,   0,   0],\n",
              "        [  0,   0,   0],\n",
              "        [  0,   0,   0],\n",
              "        ...,\n",
              "        [  0,   0,   0],\n",
              "        [  0,   0,   0],\n",
              "        [  0,   0,   0]],\n",
              "\n",
              "       [[  0,   0,   0],\n",
              "        [ 55,  55,  55],\n",
              "        [139, 139, 139],\n",
              "        ...,\n",
              "        [  0,   0,   0],\n",
              "        [  0,   0,   0],\n",
              "        [  0,   0,   0]],\n",
              "\n",
              "       ...,\n",
              "\n",
              "       [[  0,   0,   0],\n",
              "        [  0,   0,   0],\n",
              "        [  0,   0,   0],\n",
              "        ...,\n",
              "        [  0,   0,   0],\n",
              "        [  0,   0,   0],\n",
              "        [  0,   0,   0]],\n",
              "\n",
              "       [[  0,   0,   0],\n",
              "        [  0,   0,   0],\n",
              "        [  0,   0,   0],\n",
              "        ...,\n",
              "        [  0,   0,   0],\n",
              "        [  0,   0,   0],\n",
              "        [  0,   0,   0]],\n",
              "\n",
              "       [[  0,   0,   0],\n",
              "        [  0,   0,   0],\n",
              "        [  0,   0,   0],\n",
              "        ...,\n",
              "        [  0,   0,   0],\n",
              "        [  0,   0,   0],\n",
              "        [  0,   0,   0]]], dtype=uint8)"
            ]
          },
          "execution_count": 19,
          "metadata": {},
          "output_type": "execute_result"
        }
      ],
      "source": [
        "np.array(sample_image).astype('uint8')"
      ]
    },
    {
      "cell_type": "markdown",
      "metadata": {
        "id": "pF1a-BWfk1pd"
      },
      "source": [
        "#### Loading Dataset Dataset"
      ]
    },
    {
      "cell_type": "code",
      "execution_count": 34,
      "metadata": {
        "id": "YOHwe784nYC9"
      },
      "outputs": [],
      "source": [
        "# get all available categories / subfolders\n",
        "labels = []\n",
        "for path in data_dir.iterdir():\n",
        "  labels.append(path.name)\n",
        "\n",
        "# fixing the Imagesize\n",
        "IMAGE_SIZE = (80,80)\n",
        "\n",
        "def get_dataset(name='train'):\n",
        "  # create dataset path\n",
        "  path_name = f\"/content/sample_data/Dental_Radiography/{name}\"\n",
        "  data_dir = pathlib.Path(path_name)\n",
        "  print(\"data directory:\",data_dir)\n",
        "\n",
        "\n",
        "  # get how many samples are in this dataset\n",
        "  total_samples = len(list(data_dir.glob('*/*')))\n",
        "  print(\"no. of sample:\",total_samples)\n",
        "\n",
        "  # creating X and y\n",
        "  X, y = np.zeros((total_samples,*IMAGE_SIZE,3), dtype='int32'), np.zeros((total_samples,), dtype='int32')\n",
        "  pos = 0\n",
        "  for i, label in enumerate(labels):\n",
        "    for image in data_dir.glob(f'{label}/*'):\n",
        "      img = cv2.imread(str(image))\n",
        "      resized_img = cv2.resize(img, IMAGE_SIZE)\n",
        "      X[pos] = resized_img\n",
        "      y[pos] = i\n",
        "      pos += 1\n",
        "\n",
        "  print(f\"X_{name}'s Shape : {X.shape}\\ny_{name}'s Shape : {y.shape}\")\n",
        "  return X,y"
      ]
    },
    {
      "cell_type": "code",
      "execution_count": 21,
      "metadata": {
        "colab": {
          "base_uri": "https://localhost:8080/"
        },
        "id": "N4qIWZglqGFe",
        "outputId": "4c077505-80bf-4f59-82b6-5f3ec1b6b968"
      },
      "outputs": [
        {
          "name": "stdout",
          "output_type": "stream",
          "text": [
            "data directory: /content/sample_data/Dental_Radiography/train\n",
            "no. of sample: 25136\n",
            "X_train's Shape : (25136, 80, 80, 3)\n",
            "y_train's Shape : (25136,)\n"
          ]
        }
      ],
      "source": [
        "x_train, y_train = get_dataset()"
      ]
    },
    {
      "cell_type": "code",
      "execution_count": 22,
      "metadata": {
        "colab": {
          "base_uri": "https://localhost:8080/",
          "height": 1000
        },
        "id": "jIs5zeNZqV8Y",
        "outputId": "2f3604a1-a661-4fcb-ad8b-b479d26a0516"
      },
      "outputs": [
        {
          "data": {
            "text/plain": [
              "array([[[ 0,  0,  0],\n",
              "        [ 0,  0,  0],\n",
              "        [ 0,  0,  0],\n",
              "        ...,\n",
              "        [ 0,  0,  0],\n",
              "        [ 0,  0,  0],\n",
              "        [ 0,  0,  0]],\n",
              "\n",
              "       [[ 0,  0,  0],\n",
              "        [ 0,  0,  0],\n",
              "        [ 0,  0,  0],\n",
              "        ...,\n",
              "        [ 0,  0,  0],\n",
              "        [ 0,  0,  0],\n",
              "        [ 0,  0,  0]],\n",
              "\n",
              "       [[15, 15, 15],\n",
              "        [15, 15, 15],\n",
              "        [19, 19, 19],\n",
              "        ...,\n",
              "        [ 0,  0,  0],\n",
              "        [ 0,  0,  0],\n",
              "        [ 0,  0,  0]],\n",
              "\n",
              "       ...,\n",
              "\n",
              "       [[ 0,  0,  0],\n",
              "        [ 0,  0,  0],\n",
              "        [ 0,  0,  0],\n",
              "        ...,\n",
              "        [ 0,  0,  0],\n",
              "        [ 0,  0,  0],\n",
              "        [ 0,  0,  0]],\n",
              "\n",
              "       [[ 0,  0,  0],\n",
              "        [ 0,  0,  0],\n",
              "        [ 0,  0,  0],\n",
              "        ...,\n",
              "        [ 0,  0,  0],\n",
              "        [ 0,  0,  0],\n",
              "        [ 0,  0,  0]],\n",
              "\n",
              "       [[ 0,  0,  0],\n",
              "        [ 0,  0,  0],\n",
              "        [ 0,  0,  0],\n",
              "        ...,\n",
              "        [ 0,  0,  0],\n",
              "        [ 0,  0,  0],\n",
              "        [ 0,  0,  0]]], dtype=int32)"
            ]
          },
          "execution_count": 22,
          "metadata": {},
          "output_type": "execute_result"
        },
        {
          "data": {
            "image/png": "[encoded data removed]",
            "text/plain": [
              "<Figure size 640x480 with 1 Axes>"
            ]
          },
          "metadata": {},
          "output_type": "display_data"
        }
      ],
      "source": [
        "plt.imshow(x_train[10])\n",
        "x_train[10]"
      ]
    },
    {
      "cell_type": "code",
      "execution_count": 23,
      "metadata": {
        "colab": {
          "base_uri": "https://localhost:8080/"
        },
        "id": "EDf6HIocr5dc",
        "outputId": "bc18b9a3-529f-453a-bb00-248a192dd447"
      },
      "outputs": [
        {
          "name": "stderr",
          "output_type": "stream",
          "text": [
            "/usr/local/lib/python3.10/dist-packages/keras/src/layers/preprocessing/tf_data_layer.py:19: UserWarning: Do not pass an `input_shape`/`input_dim` argument to a layer. When using Sequential models, prefer using an `Input(shape)` object as the first layer in the model instead.\n",
            "  super().__init__(**kwargs)\n"
          ]
        }
      ],
      "source": [
        "# building CNN\n",
        "\n",
        "model = Sequential([\n",
        "    layers.Rescaling(1./255, input_shape=IMAGE_SIZE+(3,)),\n",
        "    layers.Conv2D(filters=16, kernel_size=(3,3), activation='relu'),\n",
        "    layers.MaxPooling2D(pool_size=(2,2)),\n",
        "\n",
        "    layers.Conv2D(filters=64, kernel_size=(3,3), activation='relu'),\n",
        "    layers.MaxPooling2D(pool_size=(2,2)),\n",
        "\n",
        "    layers.Conv2D(filters=64, kernel_size=(3,3), activation='relu'),\n",
        "    layers.MaxPooling2D(pool_size=(2,2)),\n",
        "\n",
        "    layers.Flatten(),\n",
        "    layers.Dense(units=128, activation='relu'),\n",
        "    layers.Dense(units=len(labels), activation='softmax')\n",
        "])\n",
        "\n",
        "model.compile(optimizer='adam',\n",
        "              loss='sparse_categorical_crossentropy',\n",
        "              metrics=['accuracy'])"
      ]
    },
    {
      "cell_type": "code",
      "execution_count": 25,
      "metadata": {
        "colab": {
          "base_uri": "https://localhost:8080/"
        },
        "id": "K8U4mfFktbUC",
        "outputId": "007441e5-f0c8-4230-d1f1-686fc24aa67e"
      },
      "outputs": [
        {
          "name": "stdout",
          "output_type": "stream",
          "text": [
            "Epoch 1/10\n",
            "\u001b[1m786/786\u001b[0m \u001b[32m━━━━━━━━━━━━━━━━━━━━\u001b[0m\u001b[37m\u001b[0m \u001b[1m190s\u001b[0m 242ms/step - accuracy: 0.7495 - loss: 0.6524\n",
            "Epoch 2/10\n",
            "\u001b[1m786/786\u001b[0m \u001b[32m━━━━━━━━━━━━━━━━━━━━\u001b[0m\u001b[37m\u001b[0m \u001b[1m200s\u001b[0m 239ms/step - accuracy: 0.8073 - loss: 0.5088\n",
            "Epoch 3/10\n",
            "\u001b[1m786/786\u001b[0m \u001b[32m━━━━━━━━━━━━━━━━━━━━\u001b[0m\u001b[37m\u001b[0m \u001b[1m200s\u001b[0m 236ms/step - accuracy: 0.8266 - loss: 0.4525\n",
            "Epoch 4/10\n",
            "\u001b[1m786/786\u001b[0m \u001b[32m━━━━━━━━━━━━━━━━━━━━\u001b[0m\u001b[37m\u001b[0m \u001b[1m199s\u001b[0m 233ms/step - accuracy: 0.8598 - loss: 0.3807\n",
            "Epoch 5/10\n",
            "\u001b[1m786/786\u001b[0m \u001b[32m━━━━━━━━━━━━━━━━━━━━\u001b[0m\u001b[37m\u001b[0m \u001b[1m203s\u001b[0m 234ms/step - accuracy: 0.8826 - loss: 0.3142\n",
            "Epoch 6/10\n",
            "\u001b[1m786/786\u001b[0m \u001b[32m━━━━━━━━━━━━━━━━━━━━\u001b[0m\u001b[37m\u001b[0m \u001b[1m186s\u001b[0m 237ms/step - accuracy: 0.9078 - loss: 0.2549\n",
            "Epoch 7/10\n",
            "\u001b[1m786/786\u001b[0m \u001b[32m━━━━━━━━━━━━━━━━━━━━\u001b[0m\u001b[37m\u001b[0m \u001b[1m185s\u001b[0m 236ms/step - accuracy: 0.9225 - loss: 0.2133\n",
            "Epoch 8/10\n",
            "\u001b[1m786/786\u001b[0m \u001b[32m━━━━━━━━━━━━━━━━━━━━\u001b[0m\u001b[37m\u001b[0m \u001b[1m204s\u001b[0m 238ms/step - accuracy: 0.9334 - loss: 0.1870\n",
            "Epoch 9/10\n",
            "\u001b[1m786/786\u001b[0m \u001b[32m━━━━━━━━━━━━━━━━━━━━\u001b[0m\u001b[37m\u001b[0m \u001b[1m188s\u001b[0m 239ms/step - accuracy: 0.9473 - loss: 0.1422\n",
            "Epoch 10/10\n",
            "\u001b[1m786/786\u001b[0m \u001b[32m━━━━━━━━━━━━━━━━━━━━\u001b[0m\u001b[37m\u001b[0m \u001b[1m187s\u001b[0m 238ms/step - accuracy: 0.9625 - loss: 0.1109\n"
          ]
        },
        {
          "data": {
            "text/plain": [
              "<keras.src.callbacks.history.History at 0x7e6773012380>"
            ]
          },
          "execution_count": 25,
          "metadata": {},
          "output_type": "execute_result"
        }
      ],
      "source": [
        "model.fit(x_train, y_train, epochs=10)"
      ]
    },
    {
      "cell_type": "code",
      "execution_count": 26,
      "metadata": {
        "colab": {
          "base_uri": "https://localhost:8080/"
        },
        "id": "47oKKO2KGO3q",
        "outputId": "7a735efe-fbcc-417c-a84a-98c4f4991014"
      },
      "outputs": [
        {
          "name": "stdout",
          "output_type": "stream",
          "text": [
            "\u001b[1m786/786\u001b[0m \u001b[32m━━━━━━━━━━━━━━━━━━━━\u001b[0m\u001b[37m\u001b[0m \u001b[1m58s\u001b[0m 73ms/step - accuracy: 0.9417 - loss: 0.1466\n"
          ]
        },
        {
          "data": {
            "text/plain": [
              "[0.16954278945922852, 0.9338001012802124]"
            ]
          },
          "execution_count": 26,
          "metadata": {},
          "output_type": "execute_result"
        }
      ],
      "source": [
        "model.evaluate(x_train,y_train)"
      ]
    },
    {
      "cell_type": "code",
      "execution_count": 27,
      "metadata": {
        "colab": {
          "base_uri": "https://localhost:8080/"
        },
        "id": "3FJVIA2TOKpd",
        "outputId": "c2dec12e-5d70-4262-b17b-7913183a38da"
      },
      "outputs": [
        {
          "data": {
            "text/plain": [
              "['/content/tooth_disease.h5']"
            ]
          },
          "execution_count": 27,
          "metadata": {},
          "output_type": "execute_result"
        }
      ],
      "source": [
        "import joblib\n",
        "\n",
        "joblib.dump(model, '/content/tooth_disease.h5')"
      ]
    },
    {
      "cell_type": "code",
      "execution_count": 28,
      "metadata": {
        "colab": {
          "base_uri": "https://localhost:8080/"
        },
        "id": "a74V84mWPG0S",
        "outputId": "9b7d79a6-4c52-49f8-a612-7dcdd228816b"
      },
      "outputs": [
        {
          "name": "stdout",
          "output_type": "stream",
          "text": [
            "data directory: /content/sample_data/Dental_Radiography/valid\n",
            "no. of sample: 2812\n",
            "X_valid's Shape : (2812, 80, 80, 3)\n",
            "y_valid's Shape : (2812,)\n"
          ]
        }
      ],
      "source": [
        "x_validation, y_validation = get_dataset('valid')"
      ]
    },
    {
      "cell_type": "code",
      "execution_count": 29,
      "metadata": {
        "colab": {
          "base_uri": "https://localhost:8080/"
        },
        "id": "3T3WiDb0T9As",
        "outputId": "a12259e2-2b47-4905-8c65-58f9e8e4a972"
      },
      "outputs": [
        {
          "name": "stdout",
          "output_type": "stream",
          "text": [
            "\u001b[1m88/88\u001b[0m \u001b[32m━━━━━━━━━━━━━━━━━━━━\u001b[0m\u001b[37m\u001b[0m \u001b[1m6s\u001b[0m 70ms/step - accuracy: 0.8537 - loss: 0.7282\n"
          ]
        },
        {
          "data": {
            "text/plain": [
              "[0.6076860427856445, 0.8549075126647949]"
            ]
          },
          "execution_count": 29,
          "metadata": {},
          "output_type": "execute_result"
        }
      ],
      "source": [
        "model.evaluate(x_validation, y_validation)"
      ]
    },
    {
      "cell_type": "code",
      "execution_count": 39,
      "metadata": {
        "id": "Ve-7xjb5UF2g"
      },
      "outputs": [],
      "source": [
        "def prediction(x,y,idx):\n",
        "  y_pred = model.predict(x[np.newaxis, idx])\n",
        "  category = np.argmax(y_pred)\n",
        "  print(f\"Predicted: {category} | Acctual: {y[idx]}\")\n",
        "  print(f\"Predicted: {labels[category]} | Acctual: {labels[y[idx]]}\")"
      ]
    },
    {
      "cell_type": "code",
      "execution_count": 40,
      "metadata": {
        "colab": {
          "base_uri": "https://localhost:8080/"
        },
        "id": "feciSlD0UpDu",
        "outputId": "7e96f37a-13cf-4f62-ac0a-ed476a4e19ea"
      },
      "outputs": [
        {
          "name": "stdout",
          "output_type": "stream",
          "text": [
            "\u001b[1m1/1\u001b[0m \u001b[32m━━━━━━━━━━━━━━━━━━━━\u001b[0m\u001b[37m\u001b[0m \u001b[1m0s\u001b[0m 33ms/step\n",
            "Predicted: 2 | Acctual: 0\n",
            "Predicted: Normal | Acctual: Cavity\n"
          ]
        }
      ],
      "source": [
        "prediction(x_validation, y_validation, 5)"
      ]
    },
    {
      "cell_type": "code",
      "execution_count": 41,
      "metadata": {
        "colab": {
          "base_uri": "https://localhost:8080/"
        },
        "id": "I5-PsNcbUskm",
        "outputId": "5e5e5b1e-c689-4996-a4f5-b2d154310f86"
      },
      "outputs": [
        {
          "name": "stdout",
          "output_type": "stream",
          "text": [
            "\u001b[1m1/1\u001b[0m \u001b[32m━━━━━━━━━━━━━━━━━━━━\u001b[0m\u001b[37m\u001b[0m \u001b[1m0s\u001b[0m 45ms/step\n",
            "Predicted: 2 | Acctual: 0\n",
            "Predicted: Normal | Acctual: Cavity\n"
          ]
        }
      ],
      "source": [
        "prediction(x_validation, y_validation, 40)"
      ]
    },
    {
      "cell_type": "code",
      "execution_count": 42,
      "metadata": {
        "colab": {
          "base_uri": "https://localhost:8080/"
        },
        "id": "vV0LTFtRWe45",
        "outputId": "840935ce-3cf1-4896-b014-73bf29be42a7"
      },
      "outputs": [
        {
          "name": "stdout",
          "output_type": "stream",
          "text": [
            "\u001b[1m1/1\u001b[0m \u001b[32m━━━━━━━━━━━━━━━━━━━━\u001b[0m\u001b[37m\u001b[0m \u001b[1m0s\u001b[0m 24ms/step\n",
            "Predicted: 2 | Acctual: 2\n",
            "Predicted: Normal | Acctual: Normal\n"
          ]
        }
      ],
      "source": [
        "prediction(x_validation, y_validation, 100)"
      ]
    },
    {
      "cell_type": "code",
      "execution_count": 43,
      "metadata": {
        "colab": {
          "base_uri": "https://localhost:8080/"
        },
        "id": "g5jYyAuyXBf4",
        "outputId": "c833078e-ddfd-4c72-c7c5-cc0f63a89775"
      },
      "outputs": [
        {
          "name": "stdout",
          "output_type": "stream",
          "text": [
            "\u001b[1m1/1\u001b[0m \u001b[32m━━━━━━━━━━━━━━━━━━━━\u001b[0m\u001b[37m\u001b[0m \u001b[1m0s\u001b[0m 25ms/step\n",
            "Predicted: 2 | Acctual: 2\n",
            "Predicted: Normal | Acctual: Normal\n"
          ]
        }
      ],
      "source": [
        "prediction(x_validation, y_validation, 500)"
      ]
    },
    {
      "cell_type": "code",
      "execution_count": 44,
      "metadata": {
        "colab": {
          "base_uri": "https://localhost:8080/"
        },
        "id": "doiZASe1XGM6",
        "outputId": "271aa257-069e-45fe-a5d2-6bf92a2f0e39"
      },
      "outputs": [
        {
          "name": "stdout",
          "output_type": "stream",
          "text": [
            "\u001b[1m1/1\u001b[0m \u001b[32m━━━━━━━━━━━━━━━━━━━━\u001b[0m\u001b[37m\u001b[0m \u001b[1m0s\u001b[0m 24ms/step\n",
            "Predicted: 0 | Acctual: 2\n",
            "Predicted: Cavity | Acctual: Normal\n"
          ]
        }
      ],
      "source": [
        "prediction(x_validation, y_validation, 1542)"
      ]
    },
    {
      "cell_type": "code",
      "execution_count": 45,
      "metadata": {
        "colab": {
          "base_uri": "https://localhost:8080/"
        },
        "id": "ky8O0hRtXKaq",
        "outputId": "17b5d626-faba-4f4b-b834-616a16de29b9"
      },
      "outputs": [
        {
          "name": "stdout",
          "output_type": "stream",
          "text": [
            "\u001b[1m88/88\u001b[0m \u001b[32m━━━━━━━━━━━━━━━━━━━━\u001b[0m\u001b[37m\u001b[0m \u001b[1m6s\u001b[0m 63ms/step\n"
          ]
        }
      ],
      "source": [
        "y_pred = model.predict(x_validation)\n",
        "y_pred = [np.argmax(i) for i in y_pred]"
      ]
    },
    {
      "cell_type": "code",
      "execution_count": 46,
      "metadata": {
        "id": "vbzyJEP5XwDY"
      },
      "outputs": [],
      "source": [
        "cm = tf.math.confusion_matrix(y_validation, y_pred)"
      ]
    },
    {
      "cell_type": "code",
      "execution_count": 48,
      "metadata": {
        "colab": {
          "base_uri": "https://localhost:8080/",
          "height": 447
        },
        "id": "ksbRu2kLYDzL",
        "outputId": "173acb5a-730d-4bca-e5b9-a74b9bce2741"
      },
      "outputs": [
        {
          "data": {
            "text/plain": [
              "<Axes: >"
            ]
          },
          "execution_count": 48,
          "metadata": {},
          "output_type": "execute_result"
        },
        {
          "data": {
            "image/png": "[encoded data removed]",
            "text/plain": [
              "<Figure size 640x480 with 2 Axes>"
            ]
          },
          "metadata": {},
          "output_type": "display_data"
        }
      ],
      "source": [
        "import seaborn as sns\n",
        "\n",
        "sns.heatmap(cm, annot=True, fmt='d')"
      ]
    },
    {
      "cell_type": "code",
      "execution_count": null,
      "metadata": {
        "id": "Il7KbZlTYK-s"
      },
      "outputs": [],
      "source": []
    }
  ],
  "metadata": {
    "colab": {
      "gpuType": "T4",
      "provenance": []
    },
    "kernelspec": {
      "display_name": "env",
      "language": "python",
      "name": "python3"
    },
    "language_info": {
      "codemirror_mode": {
        "name": "ipython",
        "version": 3
      },
      "file_extension": ".py",
      "mimetype": "text/x-python",
      "name": "python",
      "nbconvert_exporter": "python",
      "pygments_lexer": "ipython3",
      "version": "3.11.4"
    }
  },
  "nbformat": 4,
  "nbformat_minor": 0
}
